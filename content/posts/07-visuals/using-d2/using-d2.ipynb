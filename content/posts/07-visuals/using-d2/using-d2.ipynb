{
  "cells": [
    {
      "cell_type": "raw",
      "metadata": {},
      "source": [
        "---\n",
        "title: \"Using D2 for Diagrams\"\n",
        "author: \"Arvind V\"\n",
        "---"
      ],
      "id": "8b31add2"
    },
    {
      "cell_type": "markdown",
      "metadata": {},
      "source": [
        "```{d2}\n",
        "logs: {\n",
        "  shape: page\n",
        "  style.multiple: true\n",
        "}\n",
        "user: User {shape: person}\n",
        "network: Network {\n",
        "  tower: Cell Tower {\n",
        "    satellites: {\n",
        "      shape: stored_data\n",
        "      style.multiple: true\n",
        "    }\n",
        "\n",
        "    satellites -> transmitter\n",
        "    satellites -> transmitter\n",
        "    satellites -> transmitter\n",
        "    transmitter\n",
        "  }\n",
        "  processor: Data Processor {\n",
        "    storage: Storage {\n",
        "      shape: cylinder\n",
        "      style.multiple: true\n",
        "    }\n",
        "  }\n",
        "  portal: Online Portal {\n",
        "    UI\n",
        "  }\n",
        "\n",
        "  tower.transmitter -> processor: phone logs\n",
        "}\n",
        "server: API Server\n",
        "\n",
        "user -> network.tower: Make call\n",
        "network.processor -> server\n",
        "network.processor -> server\n",
        "network.processor -> server\n",
        "\n",
        "server -> logs\n",
        "server -> logs\n",
        "server -> logs: persist\n",
        "\n",
        "server -> network.portal.UI: display\n",
        "user -> network.portal.UI: access {\n",
        "  style.stroke-dash: 3\n",
        "}\n",
        "```\n"
      ],
      "id": "3cd90adf"
    }
  ],
  "metadata": {
    "kernelspec": {
      "name": "python3",
      "language": "python",
      "display_name": "Python 3 (ipykernel)"
    }
  },
  "nbformat": 4,
  "nbformat_minor": 5
}